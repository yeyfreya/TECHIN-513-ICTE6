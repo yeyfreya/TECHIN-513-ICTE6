{
 "cells": [
  {
   "cell_type": "markdown",
   "metadata": {},
   "source": [
    "### Q3.1 What does the max leaf nodes argument describe for a Decision Tree model?\n",
    "\n",
    "The `max_leaf_nodes` argument in a Decision Tree model specifies the maximum number of leaf nodes the tree can have. Limiting the number of leaf nodes helps control the model's complexity, balancing between overfitting and underfitting. Overfitting occurs when the model is too complex, capturing noise in the training data, which leads to poor performance on new data. Underfitting happens when the model is too simple to capture the underlying structure of the data, resulting in poor performance both on training and new data. Adjusting `max_leaf_nodes` is a way to find a sweet spot where the model is complex enough to capture essential patterns without fitting to the noise."
   ]
  },
  {
   "cell_type": "markdown",
   "metadata": {},
   "source": [
    "### Q3.2 Write a script which finds the optimal number of max leaf nodes for your Decision Tree model. What is the optimal number of max leaf nodes?"
   ]
  },
  {
   "cell_type": "code",
   "execution_count": null,
   "metadata": {},
   "outputs": [
    {
     "name": "stdout",
     "output_type": "stream",
     "text": [
      "Max leaf nodes: 5 \t\t Mean Absolute Error:  362208.44519981806\n",
      "Max leaf nodes: 50 \t\t Mean Absolute Error:  320536.05856001494\n",
      "Max leaf nodes: 500 \t\t Mean Absolute Error:  296622.1652119891\n",
      "Max leaf nodes: 5000 \t\t Mean Absolute Error:  296046.56250849954\n",
      "\n",
      "Optimal number of max leaf nodes: 5000\n"
     ]
    }
   ],
   "source": [
    "import pandas as pd\n",
    "from sklearn.model_selection import train_test_split\n",
    "from sklearn.tree import DecisionTreeRegressor\n",
    "from sklearn.metrics import mean_absolute_error\n",
    "\n",
    "# Load the dataset\n",
    "melbourne_data = pd.read_csv('melb_data.csv')\n",
    "\n",
    "# Select the target variable and features. Assuming 'Price' is the target variable.\n",
    "y = melbourne_data['Price']\n",
    "features = ['Rooms', 'Distance']  # Assuming 'Type' needs to be encoded if it's categorical\n",
    "\n",
    "# For simplicity, let's ignore 'Type' for now unless it's numeric. If 'Type' is categorical, you would typically use pd.get_dummies() to convert it to a format suitable for modeling.\n",
    "X = melbourne_data[features]\n",
    "\n",
    "# Split data into training and validation sets\n",
    "train_X, val_X, train_y, val_y = train_test_split(X, y, random_state=0)\n",
    "\n",
    "def get_mae(max_leaf_nodes, train_X, val_X, train_y, val_y):\n",
    "    model = DecisionTreeRegressor(max_leaf_nodes=max_leaf_nodes, random_state=0)\n",
    "    model.fit(train_X, train_y)\n",
    "    preds_val = model.predict(val_X)\n",
    "    mae = mean_absolute_error(val_y, preds_val)\n",
    "    return mae\n",
    "\n",
    "# Define the range of `max_leaf_nodes` to test\n",
    "max_leaf_nodes_options = [5, 50, 500, 5000]\n",
    "\n",
    "# Initialize variables to store the minimum MAE and the optimal number of max_leaf_nodes\n",
    "min_mae = float('inf')\n",
    "best_max_leaf_nodes = None\n",
    "\n",
    "# Find the optimal number of max_leaf_nodes\n",
    "for max_leaf_nodes in max_leaf_nodes_options:\n",
    "    my_mae = get_mae(max_leaf_nodes, train_X, val_X, train_y, val_y)\n",
    "    print(f\"Max leaf nodes: {max_leaf_nodes} \\t\\t Mean Absolute Error:  {my_mae}\")\n",
    "    \n",
    "    if my_mae < min_mae:\n",
    "        min_mae = my_mae\n",
    "        best_max_leaf_nodes = max_leaf_nodes\n",
    "\n",
    "print(f\"\\nOptimal number of max leaf nodes: {best_max_leaf_nodes}\")\n"
   ]
  }
 ],
 "metadata": {
  "language_info": {
   "name": "python"
  }
 },
 "nbformat": 4,
 "nbformat_minor": 2
}
